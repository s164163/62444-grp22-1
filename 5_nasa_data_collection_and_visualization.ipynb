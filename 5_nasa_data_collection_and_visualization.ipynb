{
 "cells": [
  {
   "attachments": {},
   "cell_type": "markdown",
   "metadata": {},
   "source": [
    "# Project 2：NASA Data Acquisation, Visualization, and Analysis"
   ]
  },
  {
   "cell_type": "code",
   "execution_count": 1,
   "metadata": {},
   "outputs": [],
   "source": [
    "# The code makes sure that once there is change in the 'src/' folder, the \n",
    "# change will be automatically reloaded in the notebook.\n",
    "%reload_ext autoreload\n",
    "%autoreload 2\n",
    "%aimport src"
   ]
  },
  {
   "attachments": {},
   "cell_type": "markdown",
   "metadata": {},
   "source": [
    "### Task 1: Understanding the NASA API and Data Collection\n",
    "\n",
    "- Register for a NASA API key and understand the different types of data that the API provides.\n",
    "- Run the Python script below to fetch data about **Near Earth Objects (NEOs)** from the NASA API for a years data.\n",
    "- Extract and understand the different pieces of data provided for each NEO."
   ]
  },
  {
   "cell_type": "code",
   "execution_count": 2,
   "metadata": {},
   "outputs": [],
   "source": [
    "import numpy as np"
   ]
  },
  {
   "cell_type": "code",
   "execution_count": 3,
   "metadata": {},
   "outputs": [],
   "source": [
    "import requests\n",
    "import time\n",
    "from datetime import datetime, timedelta\n",
    "from getpass import getpass\n",
    "\n",
    "# Set your NASA API KEY, this step asks you to enter your API KEY.\n",
    "# (The input box may be float in the top on your editor.)\n",
    "api_key = getpass()"
   ]
  },
  {
   "cell_type": "code",
   "execution_count": 4,
   "metadata": {},
   "outputs": [],
   "source": [
    "# Set the start and end dates for the data you want to fetch\n",
    "start_date = datetime.strptime('2022-01-01', '%Y-%m-%d')\n",
    "end_date = start_date + timedelta(days=365)  # 1 year later\n",
    "\n",
    "# Initialize a list to store the data\n",
    "data = []\n",
    "\n",
    "# Fetch data from the NASA API 7 days at a time\n",
    "# The introduction of the API is on https://api.nasa.gov, under \"Browse APIs\" -> \"Asteroids NeoWs\"\n",
    "# You can look into the example query in the link below to see what the data look like:\n",
    "# https://api.nasa.gov/neo/rest/v1/feed?start_date=2015-09-07&end_date=2015-09-08&api_key=DEMO_KEY\n",
    "current_date = start_date\n",
    "while current_date < end_date:\n",
    "    next_date = min(current_date + timedelta(days=7), end_date)\n",
    "    response = requests.get(f'https://api.nasa.gov/neo/rest/v1/feed?start_date={current_date.strftime(\"%Y-%m-%d\")}&end_date={next_date.strftime(\"%Y-%m-%d\")}&api_key={api_key}')\n",
    "    data.append(response.json())\n",
    "    current_date = next_date\n",
    "    time.sleep(1)  # To avoid hitting the rate limit\n",
    "\n",
    "# Now 'data' contains the NEO data for the 1-year period\n"
   ]
  },
  {
   "cell_type": "code",
   "execution_count": 4,
   "metadata": {},
   "outputs": [
    {
     "name": "stdout",
     "output_type": "stream",
     "text": [
      "['2022-01-01', '2022-01-02', '2022-01-03', '2022-01-04', '2022-01-05', '2022-01-06', '2022-01-07', '2022-01-08', '2022-01-08', '2022-01-09', '2022-01-10', '2022-01-11', '2022-01-12', '2022-01-13', '2022-01-14', '2022-01-15', '2022-01-15', '2022-01-16', '2022-01-17', '2022-01-18', '2022-01-19', '2022-01-20', '2022-01-21', '2022-01-22', '2022-01-22', '2022-01-23', '2022-01-24', '2022-01-25', '2022-01-26', '2022-01-27', '2022-01-28', '2022-01-29', '2022-01-29', '2022-01-30', '2022-01-31', '2022-02-01', '2022-02-02', '2022-02-03', '2022-02-04', '2022-02-05', '2022-02-05', '2022-02-06', '2022-02-07', '2022-02-08', '2022-02-09', '2022-02-10', '2022-02-11', '2022-02-12', '2022-02-12', '2022-02-13', '2022-02-14', '2022-02-15', '2022-02-16', '2022-02-17', '2022-02-18', '2022-02-19', '2022-02-19', '2022-02-20', '2022-02-21', '2022-02-22', '2022-02-23', '2022-02-24', '2022-02-25', '2022-02-26', '2022-02-26', '2022-02-27', '2022-02-28', '2022-03-01', '2022-03-02', '2022-03-03', '2022-03-04', '2022-03-05', '2022-03-05', '2022-03-06', '2022-03-07', '2022-03-08', '2022-03-09', '2022-03-10', '2022-03-11', '2022-03-12', '2022-03-12', '2022-03-13', '2022-03-14', '2022-03-15', '2022-03-16', '2022-03-17', '2022-03-18', '2022-03-19', '2022-03-19', '2022-03-20', '2022-03-21', '2022-03-22', '2022-03-23', '2022-03-24', '2022-03-25', '2022-03-26', '2022-03-26', '2022-03-27', '2022-03-28', '2022-03-29', '2022-03-30', '2022-03-31', '2022-04-01', '2022-04-02', '2022-04-02', '2022-04-03', '2022-04-04', '2022-04-05', '2022-04-06', '2022-04-07', '2022-04-08', '2022-04-09', '2022-04-09', '2022-04-10', '2022-04-11', '2022-04-12', '2022-04-13', '2022-04-14', '2022-04-15', '2022-04-16', '2022-04-16', '2022-04-17', '2022-04-18', '2022-04-19', '2022-04-20', '2022-04-21', '2022-04-22', '2022-04-23', '2022-04-23', '2022-04-24', '2022-04-25', '2022-04-26', '2022-04-27', '2022-04-28', '2022-04-29', '2022-04-30', '2022-04-30', '2022-05-01', '2022-05-02', '2022-05-03', '2022-05-04', '2022-05-05', '2022-05-06', '2022-05-07', '2022-05-07', '2022-05-08', '2022-05-09', '2022-05-10', '2022-05-11', '2022-05-12', '2022-05-13', '2022-05-14', '2022-05-14', '2022-05-15', '2022-05-16', '2022-05-17', '2022-05-18', '2022-05-19', '2022-05-20', '2022-05-21', '2022-05-21', '2022-05-22', '2022-05-23', '2022-05-24', '2022-05-25', '2022-05-26', '2022-05-27', '2022-05-28', '2022-05-28', '2022-05-29', '2022-05-30', '2022-05-31', '2022-06-01', '2022-06-02', '2022-06-03', '2022-06-04', '2022-06-04', '2022-06-05', '2022-06-06', '2022-06-07', '2022-06-08', '2022-06-09', '2022-06-10', '2022-06-11', '2022-06-11', '2022-06-12', '2022-06-13', '2022-06-14', '2022-06-15', '2022-06-16', '2022-06-17', '2022-06-18', '2022-06-18', '2022-06-19', '2022-06-20', '2022-06-21', '2022-06-22', '2022-06-23', '2022-06-24', '2022-06-25', '2022-06-25', '2022-06-26', '2022-06-27', '2022-06-28', '2022-06-29', '2022-06-30', '2022-07-01', '2022-07-02', '2022-07-02', '2022-07-03', '2022-07-04', '2022-07-05', '2022-07-06', '2022-07-07', '2022-07-08', '2022-07-09', '2022-07-09', '2022-07-10', '2022-07-11', '2022-07-12', '2022-07-13', '2022-07-14', '2022-07-15', '2022-07-16', '2022-07-16', '2022-07-17', '2022-07-18', '2022-07-19', '2022-07-20', '2022-07-21', '2022-07-22', '2022-07-23', '2022-07-23', '2022-07-24', '2022-07-25', '2022-07-26', '2022-07-27', '2022-07-28', '2022-07-29', '2022-07-30', '2022-07-30', '2022-07-31', '2022-08-01', '2022-08-02', '2022-08-03', '2022-08-04', '2022-08-05', '2022-08-06', '2022-08-06', '2022-08-07', '2022-08-08', '2022-08-09', '2022-08-10', '2022-08-11', '2022-08-12', '2022-08-13', '2022-08-13', '2022-08-14', '2022-08-15', '2022-08-16', '2022-08-17', '2022-08-18', '2022-08-19', '2022-08-20', '2022-08-20', '2022-08-21', '2022-08-22', '2022-08-23', '2022-08-24', '2022-08-25', '2022-08-26', '2022-08-27', '2022-08-27', '2022-08-28', '2022-08-29', '2022-08-30', '2022-08-31', '2022-09-01', '2022-09-02', '2022-09-03', '2022-09-03', '2022-09-04', '2022-09-05', '2022-09-06', '2022-09-07', '2022-09-08', '2022-09-09', '2022-09-10', '2022-09-10', '2022-09-11', '2022-09-12', '2022-09-13', '2022-09-14', '2022-09-15', '2022-09-16', '2022-09-17', '2022-09-17', '2022-09-18', '2022-09-19', '2022-09-20', '2022-09-21', '2022-09-22', '2022-09-23', '2022-09-24', '2022-09-24', '2022-09-25', '2022-09-26', '2022-09-27', '2022-09-28', '2022-09-29', '2022-09-30', '2022-10-01', '2022-10-01', '2022-10-02', '2022-10-03', '2022-10-04', '2022-10-05', '2022-10-06', '2022-10-07', '2022-10-08', '2022-10-08', '2022-10-09', '2022-10-10', '2022-10-11', '2022-10-12', '2022-10-13', '2022-10-14', '2022-10-15', '2022-10-15', '2022-10-16', '2022-10-17', '2022-10-18', '2022-10-19', '2022-10-20', '2022-10-21', '2022-10-22', '2022-10-22', '2022-10-23', '2022-10-24', '2022-10-25', '2022-10-26', '2022-10-27', '2022-10-28', '2022-10-29', '2022-10-29', '2022-10-30', '2022-10-31', '2022-11-01', '2022-11-02', '2022-11-03', '2022-11-04', '2022-11-05', '2022-11-05', '2022-11-06', '2022-11-07', '2022-11-08', '2022-11-09', '2022-11-10', '2022-11-11', '2022-11-12', '2022-11-12', '2022-11-13', '2022-11-14', '2022-11-15', '2022-11-16', '2022-11-17', '2022-11-18', '2022-11-19', '2022-11-19', '2022-11-20', '2022-11-21', '2022-11-22', '2022-11-23', '2022-11-24', '2022-11-25', '2022-11-26', '2022-11-26', '2022-11-27', '2022-11-28', '2022-11-29', '2022-11-30', '2022-12-01', '2022-12-02', '2022-12-03', '2022-12-03', '2022-12-04', '2022-12-05', '2022-12-06', '2022-12-07', '2022-12-08', '2022-12-09', '2022-12-10', '2022-12-10', '2022-12-11', '2022-12-12', '2022-12-13', '2022-12-14', '2022-12-15', '2022-12-16', '2022-12-17', '2022-12-17', '2022-12-18', '2022-12-19', '2022-12-20', '2022-12-21', '2022-12-22', '2022-12-23', '2022-12-24', '2022-12-24', '2022-12-25', '2022-12-26', '2022-12-27', '2022-12-28', '2022-12-29', '2022-12-30', '2022-12-31', '2022-12-31', '2023-01-01']\n"
     ]
    }
   ],
   "source": [
    "# Check the date coverage of your data.\n",
    "dates_contained_in_data = []\n",
    "for d in data:\n",
    "    dates_contained_in_data += list(d['near_earth_objects'].keys())\n",
    "\n",
    "print(sorted(dates_contained_in_data))"
   ]
  },
  {
   "cell_type": "code",
   "execution_count": 5,
   "metadata": {},
   "outputs": [],
   "source": [
    "from src.utils import get_a_random_chunk_property"
   ]
  },
  {
   "cell_type": "code",
   "execution_count": 6,
   "metadata": {},
   "outputs": [
    {
     "name": "stdout",
     "output_type": "stream",
     "text": [
      "date: 2022-04-02\n",
      "NEO name: (2022 FK4)\n",
      "name: (2022 FK4)\n"
     ]
    }
   ],
   "source": [
    "get_a_random_chunk_property(data)"
   ]
  },
  {
   "attachments": {},
   "cell_type": "markdown",
   "metadata": {},
   "source": [
    "For the remaining tasks, you have to organize the data as pd.DataFrame so as to suit the specific need in each task. This part may require a considerably amount of efforts, which is normal in data science and analytics works."
   ]
  },
  {
   "attachments": {},
   "cell_type": "markdown",
   "metadata": {},
   "source": [
    "### Task 2: Data Analysis\n",
    "\n",
    "- Calculate the average size of the NEOs for each day.\n",
    "- Determine the proportion of NEOs that are potentially hazardous.\n",
    "- Find the NEO with the closest approach distance for each day.\n",
    "- Use statistical methods to analyze the data. For example, calculate the mean, median, mode, and standard deviation of the NEO sizes. Determine if the size of a NEO is correlated with whether it is potentially hazardous."
   ]
  },
  {
   "cell_type": "code",
   "execution_count": 5,
   "metadata": {},
   "outputs": [
    {
     "name": "stdout",
     "output_type": "stream",
     "text": [
      "Mean Size: 0.20791612723515276\n",
      "Median Size: 0.0765667087\n",
      "Mode Size: 0.0472106499\n",
      "Standard Deviation: 0.4082359852108826\n"
     ]
    }
   ],
   "source": [
    "# Write your code\n",
    "import requests\n",
    "import time\n",
    "from datetime import datetime, timedelta\n",
    "from getpass import getpass\n",
    "from scipy import stats\n",
    "import numpy as np\n",
    "\n",
    "# Set your NASA API KEY\n",
    "api_key = getpass()\n",
    "\n",
    "# Set the start and end dates for the data you want to fetch\n",
    "start_date = datetime.strptime('2022-01-01', '%Y-%m-%d')\n",
    "end_date = start_date + timedelta(days=365)  # 1 year later\n",
    "\n",
    "# Initialize a dictionary to store the average size for each day\n",
    "average_sizes = {}\n",
    "\n",
    "# Initialize a dictionary to store the proportion of potentially hazardous NEOs for each day\n",
    "proportions_hazardous = {}\n",
    "\n",
    "# Initialize a dictionary to store the NEO with closest approach for each day\n",
    "closest_neos = {}\n",
    "\n",
    "# Initialize a list to store the NEO sizes\n",
    "neo_sizes = []\n",
    "\n",
    "# Initialize a list to store whether a NEO is potentially hazardous\n",
    "is_hazardous = []\n",
    "\n",
    "# Fetch data from the NASA API 7 days at a time\n",
    "current_date = start_date\n",
    "while current_date < end_date:\n",
    "    next_date = min(current_date + timedelta(days=7), end_date)\n",
    "    response = requests.get(f'https://api.nasa.gov/neo/rest/v1/feed?start_date={current_date.strftime(\"%Y-%m-%d\")}&end_date={next_date.strftime(\"%Y-%m-%d\")}&api_key={api_key}')\n",
    "    data = response.json()\n",
    "    \n",
    "    # Iterate over the NEOs in the fetched data\n",
    "    for date_str, neo_data in data['near_earth_objects'].items():\n",
    "        date = datetime.strptime(date_str, '%Y-%m-%d')\n",
    "        \n",
    "        # Calculate the average size for the NEOs on the current day\n",
    "        sizes = [neo['estimated_diameter']['kilometers']['estimated_diameter_max'] for neo in neo_data]\n",
    "        average_size = sum(sizes) / len(sizes)\n",
    "        \n",
    "        # Store the average size in the dictionary\n",
    "        average_sizes[date] = average_size\n",
    "        \n",
    "        # Calculate the proportion of potentially hazardous NEOs on the current day\n",
    "        hazardous_neos = [neo for neo in neo_data if neo['is_potentially_hazardous_asteroid']]\n",
    "        proportion_hazardous = len(hazardous_neos) / len(neo_data)\n",
    "        \n",
    "        # Store the proportion in the dictionary\n",
    "        proportions_hazardous[date] = proportion_hazardous\n",
    "        \n",
    "        # Find the NEO with closest approach for the current day\n",
    "        closest_neo = min(neo_data, key=lambda neo: neo['close_approach_data'][0]['miss_distance']['astronomical'])\n",
    "        \n",
    "        # Store the closest NEO in the dictionary\n",
    "        closest_neos[date] = closest_neo\n",
    "        \n",
    "        # Append the size of each NEO to the list\n",
    "        neo_sizes.extend([neo['estimated_diameter']['kilometers']['estimated_diameter_max'] for neo in neo_data])\n",
    "        \n",
    "        # Append whether each NEO is potentially hazardous to the list\n",
    "        is_hazardous.extend([neo['is_potentially_hazardous_asteroid'] for neo in neo_data])\n",
    "    \n",
    "    current_date = next_date\n",
    "    time.sleep(1)  # To avoid hitting the rate limit\n",
    "\n",
    "# Calculate the mean, median, mode, and standard deviation of the NEO sizes\n",
    "mean_size = np.mean(neo_sizes)\n",
    "median_size = np.median(neo_sizes)\n",
    "mode_size = stats.mode(neo_sizes, axis = None, keepdims=True).mode[0]\n",
    "std_dev_size = np.std(neo_sizes)\n",
    "\n",
    "# Determine if the size of a NEO is correlated with whether it is potentially hazardous\n",
    "correlation = np.correlate(neo_sizes, is_hazardous)\n",
    "\n",
    "\n",
    "# Display the calculated statistics\n",
    "print(f\"Mean Size: {mean_size}\")\n",
    "print(f\"Median Size: {median_size}\")\n",
    "print(f\"Mode Size: {mode_size}\")\n",
    "print(f\"Standard Deviation: {std_dev_size}\")"
   ]
  },
  {
   "attachments": {},
   "cell_type": "markdown",
   "metadata": {},
   "source": [
    "### Task 3: Data Visualization Part A\n",
    "\n",
    "- Create a line plot of the number of NEOs per week.\n",
    "- Create a histogram of the distribution of NEO sizes.\n",
    "- Create a bar plot of the average NEO size per week.\n",
    "- Use a library like Seaborn to create more complex visualizations, such as a box plot of the NEO sizes or a heat map of the number of NEOs per week. **Be creative**!"
   ]
  },
  {
   "cell_type": "code",
   "execution_count": 18,
   "metadata": {},
   "outputs": [
    {
     "data": {
      "image/png": "[encoded data removed]",
      "text/plain": [
       "<Figure size 1000x600 with 1 Axes>"
      ]
     },
     "metadata": {},
     "output_type": "display_data"
    },
    {
     "data": {
      "image/png": "[encoded data removed]",
      "text/plain": [
       "<Figure size 1000x600 with 1 Axes>"
      ]
     },
     "metadata": {},
     "output_type": "display_data"
    },
    {
     "data": {
      "image/png": "[encoded data removed]",
      "text/plain": [
       "<Figure size 1000x600 with 1 Axes>"
      ]
     },
     "metadata": {},
     "output_type": "display_data"
    },
    {
     "data": {
      "image/png": "[encoded data removed]",
      "text/plain": [
       "<Figure size 1000x600 with 1 Axes>"
      ]
     },
     "metadata": {},
     "output_type": "display_data"
    },
    {
     "data": {
      "image/png": "[encoded data removed]",
      "text/plain": [
       "<Figure size 1000x600 with 2 Axes>"
      ]
     },
     "metadata": {},
     "output_type": "display_data"
    }
   ],
   "source": [
    "import requests\n",
    "import time\n",
    "from datetime import datetime, timedelta\n",
    "import numpy as np\n",
    "import matplotlib.pyplot as plt\n",
    "import seaborn as sns\n",
    "from getpass import getpass\n",
    "\n",
    "# Set your NASA API KEY\n",
    "api_key = getpass()\n",
    "\n",
    "# Set the start and end dates for the data you want to fetch\n",
    "start_date = datetime.strptime('2022-01-01', '%Y-%m-%d')\n",
    "end_date = start_date + timedelta(days=365)  # 1 year later\n",
    "\n",
    "# Initialize lists and dictionaries\n",
    "neos_per_week = []\n",
    "neo_sizes_list = []\n",
    "average_sizes = {}\n",
    "proportions_hazardous = {}\n",
    "closest_neos = {}\n",
    "\n",
    "# Fetch data from the NASA API 7 days at a time\n",
    "current_date = start_date\n",
    "while current_date < end_date:\n",
    "    next_date = min(current_date + timedelta(days=7), end_date)\n",
    "    response = requests.get(f'https://api.nasa.gov/neo/rest/v1/feed?start_date={current_date.strftime(\"%Y-%m-%d\")}&end_date={next_date.strftime(\"%Y-%m-%d\")}&api_key={api_key}')\n",
    "    data = response.json()\n",
    "\n",
    "    # Iterate over the NEOs in the fetched data\n",
    "    for _, neo_data in data['near_earth_objects'].items():\n",
    "        # Store the number of NEOs per week\n",
    "        neos_per_week.append(len(neo_data))\n",
    "\n",
    "        # Extract NEO sizes in meters\n",
    "        for neo in neo_data:\n",
    "            size_info = neo['estimated_diameter']['meters']\n",
    "            neo_sizes_list.append(size_info['estimated_diameter_min'])\n",
    "            neo_sizes_list.append(size_info['estimated_diameter_max'])\n",
    "\n",
    "    current_date = next_date\n",
    "    time.sleep(1)  # To avoid hitting the rate limit\n",
    "\n",
    "# Line plot of the number of NEOs per week\n",
    "dates = np.arange(start_date, end_date, timedelta(weeks=1))[:len(neos_per_week)]\n",
    "neos_per_week = neos_per_week[:len(dates)]\n",
    "\n",
    "plt.figure(figsize=(10, 6))\n",
    "plt.plot(dates, neos_per_week, marker='o')\n",
    "plt.xlabel('Week')\n",
    "plt.ylabel('Number of NEOs')\n",
    "plt.title('Number of NEOs per Week')\n",
    "plt.show()\n",
    "\n",
    "# Group NEO sizes by size differences\n",
    "bin_size = 150\n",
    "bins = np.arange(min(neo_sizes_list), max(neo_sizes_list) + bin_size, bin_size)\n",
    "\n",
    "# Calculate the histogram of NEO sizes\n",
    "hist, _ = np.histogram(neo_sizes_list, bins=bins)\n",
    "\n",
    "# Get the indices of outliers\n",
    "outlier_indices = np.where(hist > np.percentile(hist, 95))[0]\n",
    "\n",
    "# Bar Plot of NEO Sizes with outliers highlighted\n",
    "labels = [f'{int(bins[i])}-{int(bins[i+1])}' for i in range(len(bins)-1)]\n",
    "colors = ['b' if i not in outlier_indices else 'r' for i in range(len(hist))]\n",
    "\n",
    "plt.figure(figsize=(10, 6))\n",
    "plt.bar(labels, hist, alpha=0.7, color=colors)\n",
    "plt.xlabel('NEO Size Range (meters)')\n",
    "plt.ylabel('Count')\n",
    "plt.title('Distribution of NEO Sizes')\n",
    "plt.xticks(rotation=90)\n",
    "plt.show()\n",
    "\n",
    "# Convert NEO sizes list to numpy array\n",
    "neo_sizes_array = np.array(neo_sizes_list)\n",
    "\n",
    "# Calculate average NEO size per week\n",
    "average_sizes = []\n",
    "index = 0\n",
    "for count in neos_per_week:\n",
    "    total_size = np.sum(neo_sizes_array[index:index+count])\n",
    "    weekly_average = total_size / count\n",
    "    average_sizes.append(weekly_average)\n",
    "    index += count\n",
    "\n",
    "\n",
    "# Bar plot of the average NEO size per week\n",
    "plt.figure(figsize=(10, 6))\n",
    "plt.bar(dates, average_sizes, alpha=0.7, width=7)\n",
    "plt.xlabel('Week')\n",
    "plt.ylabel('Average NEO Size (meters)')\n",
    "plt.title('Average NEO Size per Week')\n",
    "plt.xticks(rotation=45)\n",
    "plt.show()\n",
    "\n",
    "# Create a box plot of the NEO sizes\n",
    "plt.figure(figsize=(10, 6))\n",
    "sns.boxplot(data=neo_sizes_array)\n",
    "plt.xlabel('NEO')\n",
    "plt.ylabel('NEO Size (meters)')\n",
    "plt.title('Box Plot of NEO Sizes')\n",
    "plt.show()\n",
    "\n",
    "# Create a heat map of the number of NEOs per week\n",
    "neos_per_week_array = np.array(neos_per_week).reshape(-1, 53)\n",
    "plt.figure(figsize=(10, 6))\n",
    "sns.heatmap(neos_per_week_array, cmap='YlGnBu')\n",
    "plt.xlabel('Week')\n",
    "plt.ylabel('Year')\n",
    "plt.title('Number of NEOs per Week Heat Map')\n",
    "plt.show()\n",
    "#This plot isn't that usefull as we are only loooking at data for one year, currently."
   ]
  },
  {
   "attachments": {},
   "cell_type": "markdown",
   "metadata": {},
   "source": [
    "### Task 4: Data Visualization Part B\n",
    "\n",
    "- Create a pie chart of the proportion of hazardous vs non-hazardous NEOs.\n",
    "- Create a scatter plot of the correlation between NEO size and close approach distance.\n",
    "- Customize the appearance of your plots (e.g., colors, labels, titles).\n",
    "- Create interactive visualizations using a library like Plotly. For example, create an interactive scatter plot where you can hover over each point to see more information about the NEO. **Be creative!**"
   ]
  },
  {
   "cell_type": "code",
   "execution_count": 8,
   "metadata": {},
   "outputs": [
    {
     "data": {
      "image/png": "[encoded data removed]",
      "text/plain": [
       "<Figure size 640x480 with 1 Axes>"
      ]
     },
     "metadata": {},
     "output_type": "display_data"
    },
    {
     "data": {
      "application/vnd.plotly.v1+json": {
       "config": {
        "plotlyServerURL": "https://plot.ly"
       },
       "data": [
        {
         "hovertemplate": "NEO Size (meters)=%{x}<br>Close Approach Distance (astronomical units)=%{y}<extra></extra>",
         "legendgroup": "",
         "marker": {
          "color": "#636efa",
          "symbol": "circle"
         },
         "mode": "markers",
         "name": "",
         "orientation": "h",
         "showlegend": false,
         "type": "scatter",
         "x": [
          192.5550781879,
          430.566244241,
          186.44681832,
          416.9077599521,
          308.003021266,
          688.7156928262,
          27.5775052924,
          61.6651764838,
          80.2703167283,
          179.4898847799,
          302.3813325719,
          676.1452147577,
          16.0160337979,
          35.8129403019,
          3.1956188672,
          7.1456210173,
          37.7185489265,
          84.3412394123,
          51.8268694616,
          115.8884031771,
          7.8082727749,
          17.4598287116,
          70.2352247696,
          157.0507369998,
          67.0741189325,
          149.9822894641,
          19.1670367967,
          42.8587972046,
          49.9522409906,
          111.6966064835,
          63.1764148185,
          141.2667581089,
          16.617090174,
          37.1569432173,
          17.561231848,
          39.2681081809,
          581.5070396458,
          1300.2892700427,
          207.2788433771
         ],
         "xaxis": "x",
         "y": [
          "0.3312263244",
          "0.2232885292",
          "0.264482145",
          "0.262910326",
          "0.0569979859",
          "0.4343374858",
          "0.1028381263",
          "0.1826363737",
          "0.263842663",
          "0.1657976413",
          "0.1487129696",
          "0.4925240707",
          "0.1125816303",
          "0.0721617969",
          "0.3722367775",
          "0.4667250939",
          "0.093481207",
          "0.4498578137",
          "0.0417486541",
          "0.076829623",
          "0.0119416712",
          "0.305809196",
          "0.1256412723",
          "0.0754748505",
          "0.2793587789",
          "0.1473845947",
          "0.4818383724",
          "0.2239923928",
          "0.3198847657",
          "0.286173124",
          "0.4390538629",
          "0.4167727113",
          "0.1860367491",
          "0.0581961992",
          "0.0099250728",
          "0.0109668251",
          "0.1344734221",
          "0.0424701269",
          "0.2777558084"
         ],
         "yaxis": "y"
        }
       ],
       "layout": {
        "legend": {
         "tracegroupgap": 0
        },
        "template": {
         "data": {
          "bar": [
           {
            "error_x": {
             "color": "#2a3f5f"
            },
            "error_y": {
             "color": "#2a3f5f"
            },
            "marker": {
             "line": {
              "color": "#E5ECF6",
              "width": 0.5
             },
             "pattern": {
              "fillmode": "overlay",
              "size": 10,
              "solidity": 0.2
             }
            },
            "type": "bar"
           }
          ],
          "barpolar": [
           {
            "marker": {
             "line": {
              "color": "#E5ECF6",
              "width": 0.5
             },
             "pattern": {
              "fillmode": "overlay",
              "size": 10,
              "solidity": 0.2
             }
            },
            "type": "barpolar"
           }
          ],
          "carpet": [
           {
            "aaxis": {
             "endlinecolor": "#2a3f5f",
             "gridcolor": "white",
             "linecolor": "white",
             "minorgridcolor": "white",
             "startlinecolor": "#2a3f5f"
            },
            "baxis": {
             "endlinecolor": "#2a3f5f",
             "gridcolor": "white",
             "linecolor": "white",
             "minorgridcolor": "white",
             "startlinecolor": "#2a3f5f"
            },
            "type": "carpet"
           }
          ],
          "choropleth": [
           {
            "colorbar": {
             "outlinewidth": 0,
             "ticks": ""
            },
            "type": "choropleth"
           }
          ],
          "contour": [
           {
            "colorbar": {
             "outlinewidth": 0,
             "ticks": ""
            },
            "colorscale": [
             [
              0,
              "#0d0887"
             ],
             [
              0.1111111111111111,
              "#46039f"
             ],
             [
              0.2222222222222222,
              "#7201a8"
             ],
             [
              0.3333333333333333,
              "#9c179e"
             ],
             [
              0.4444444444444444,
              "#bd3786"
             ],
             [
              0.5555555555555556,
              "#d8576b"
             ],
             [
              0.6666666666666666,
              "#ed7953"
             ],
             [
              0.7777777777777778,
              "#fb9f3a"
             ],
             [
              0.8888888888888888,
              "#fdca26"
             ],
             [
              1,
              "#f0f921"
             ]
            ],
            "type": "contour"
           }
          ],
          "contourcarpet": [
           {
            "colorbar": {
             "outlinewidth": 0,
             "ticks": ""
            },
            "type": "contourcarpet"
           }
          ],
          "heatmap": [
           {
            "colorbar": {
             "outlinewidth": 0,
             "ticks": ""
            },
            "colorscale": [
             [
              0,
              "#0d0887"
             ],
             [
              0.1111111111111111,
              "#46039f"
             ],
             [
              0.2222222222222222,
              "#7201a8"
             ],
             [
              0.3333333333333333,
              "#9c179e"
             ],
             [
              0.4444444444444444,
              "#bd3786"
             ],
             [
              0.5555555555555556,
              "#d8576b"
             ],
             [
              0.6666666666666666,
              "#ed7953"
             ],
             [
              0.7777777777777778,
              "#fb9f3a"
             ],
             [
              0.8888888888888888,
              "#fdca26"
             ],
             [
              1,
              "#f0f921"
             ]
            ],
            "type": "heatmap"
           }
          ],
          "heatmapgl": [
           {
            "colorbar": {
             "outlinewidth": 0,
             "ticks": ""
            },
            "colorscale": [
             [
              0,
              "#0d0887"
             ],
             [
              0.1111111111111111,
              "#46039f"
             ],
             [
              0.2222222222222222,
              "#7201a8"
             ],
             [
              0.3333333333333333,
              "#9c179e"
             ],
             [
              0.4444444444444444,
              "#bd3786"
             ],
             [
              0.5555555555555556,
              "#d8576b"
             ],
             [
              0.6666666666666666,
              "#ed7953"
             ],
             [
              0.7777777777777778,
              "#fb9f3a"
             ],
             [
              0.8888888888888888,
              "#fdca26"
             ],
             [
              1,
              "#f0f921"
             ]
            ],
            "type": "heatmapgl"
           }
          ],
          "histogram": [
           {
            "marker": {
             "pattern": {
              "fillmode": "overlay",
              "size": 10,
              "solidity": 0.2
             }
            },
            "type": "histogram"
           }
          ],
          "histogram2d": [
           {
            "colorbar": {
             "outlinewidth": 0,
             "ticks": ""
            },
            "colorscale": [
             [
              0,
              "#0d0887"
             ],
             [
              0.1111111111111111,
              "#46039f"
             ],
             [
              0.2222222222222222,
              "#7201a8"
             ],
             [
              0.3333333333333333,
              "#9c179e"
             ],
             [
              0.4444444444444444,
              "#bd3786"
             ],
             [
              0.5555555555555556,
              "#d8576b"
             ],
             [
              0.6666666666666666,
              "#ed7953"
             ],
             [
              0.7777777777777778,
              "#fb9f3a"
             ],
             [
              0.8888888888888888,
              "#fdca26"
             ],
             [
              1,
              "#f0f921"
             ]
            ],
            "type": "histogram2d"
           }
          ],
          "histogram2dcontour": [
           {
            "colorbar": {
             "outlinewidth": 0,
             "ticks": ""
            },
            "colorscale": [
             [
              0,
              "#0d0887"
             ],
             [
              0.1111111111111111,
              "#46039f"
             ],
             [
              0.2222222222222222,
              "#7201a8"
             ],
             [
              0.3333333333333333,
              "#9c179e"
             ],
             [
              0.4444444444444444,
              "#bd3786"
             ],
             [
              0.5555555555555556,
              "#d8576b"
             ],
             [
              0.6666666666666666,
              "#ed7953"
             ],
             [
              0.7777777777777778,
              "#fb9f3a"
             ],
             [
              0.8888888888888888,
              "#fdca26"
             ],
             [
              1,
              "#f0f921"
             ]
            ],
            "type": "histogram2dcontour"
           }
          ],
          "mesh3d": [
           {
            "colorbar": {
             "outlinewidth": 0,
             "ticks": ""
            },
            "type": "mesh3d"
           }
          ],
          "parcoords": [
           {
            "line": {
             "colorbar": {
              "outlinewidth": 0,
              "ticks": ""
             }
            },
            "type": "parcoords"
           }
          ],
          "pie": [
           {
            "automargin": true,
            "type": "pie"
           }
          ],
          "scatter": [
           {
            "fillpattern": {
             "fillmode": "overlay",
             "size": 10,
             "solidity": 0.2
            },
            "type": "scatter"
           }
          ],
          "scatter3d": [
           {
            "line": {
             "colorbar": {
              "outlinewidth": 0,
              "ticks": ""
             }
            },
            "marker": {
             "colorbar": {
              "outlinewidth": 0,
              "ticks": ""
             }
            },
            "type": "scatter3d"
           }
          ],
          "scattercarpet": [
           {
            "marker": {
             "colorbar": {
              "outlinewidth": 0,
              "ticks": ""
             }
            },
            "type": "scattercarpet"
           }
          ],
          "scattergeo": [
           {
            "marker": {
             "colorbar": {
              "outlinewidth": 0,
              "ticks": ""
             }
            },
            "type": "scattergeo"
           }
          ],
          "scattergl": [
           {
            "marker": {
             "colorbar": {
              "outlinewidth": 0,
              "ticks": ""
             }
            },
            "type": "scattergl"
           }
          ],
          "scattermapbox": [
           {
            "marker": {
             "colorbar": {
              "outlinewidth": 0,
              "ticks": ""
             }
            },
            "type": "scattermapbox"
           }
          ],
          "scatterpolar": [
           {
            "marker": {
             "colorbar": {
              "outlinewidth": 0,
              "ticks": ""
             }
            },
            "type": "scatterpolar"
           }
          ],
          "scatterpolargl": [
           {
            "marker": {
             "colorbar": {
              "outlinewidth": 0,
              "ticks": ""
             }
            },
            "type": "scatterpolargl"
           }
          ],
          "scatterternary": [
           {
            "marker": {
             "colorbar": {
              "outlinewidth": 0,
              "ticks": ""
             }
            },
            "type": "scatterternary"
           }
          ],
          "surface": [
           {
            "colorbar": {
             "outlinewidth": 0,
             "ticks": ""
            },
            "colorscale": [
             [
              0,
              "#0d0887"
             ],
             [
              0.1111111111111111,
              "#46039f"
             ],
             [
              0.2222222222222222,
              "#7201a8"
             ],
             [
              0.3333333333333333,
              "#9c179e"
             ],
             [
              0.4444444444444444,
              "#bd3786"
             ],
             [
              0.5555555555555556,
              "#d8576b"
             ],
             [
              0.6666666666666666,
              "#ed7953"
             ],
             [
              0.7777777777777778,
              "#fb9f3a"
             ],
             [
              0.8888888888888888,
              "#fdca26"
             ],
             [
              1,
              "#f0f921"
             ]
            ],
            "type": "surface"
           }
          ],
          "table": [
           {
            "cells": {
             "fill": {
              "color": "#EBF0F8"
             },
             "line": {
              "color": "white"
             }
            },
            "header": {
             "fill": {
              "color": "#C8D4E3"
             },
             "line": {
              "color": "white"
             }
            },
            "type": "table"
           }
          ]
         },
         "layout": {
          "annotationdefaults": {
           "arrowcolor": "#2a3f5f",
           "arrowhead": 0,
           "arrowwidth": 1
          },
          "autotypenumbers": "strict",
          "coloraxis": {
           "colorbar": {
            "outlinewidth": 0,
            "ticks": ""
           }
          },
          "colorscale": {
           "diverging": [
            [
             0,
             "#8e0152"
            ],
            [
             0.1,
             "#c51b7d"
            ],
            [
             0.2,
             "#de77ae"
            ],
            [
             0.3,
             "#f1b6da"
            ],
            [
             0.4,
             "#fde0ef"
            ],
            [
             0.5,
             "#f7f7f7"
            ],
            [
             0.6,
             "#e6f5d0"
            ],
            [
             0.7,
             "#b8e186"
            ],
            [
             0.8,
             "#7fbc41"
            ],
            [
             0.9,
             "#4d9221"
            ],
            [
             1,
             "#276419"
            ]
           ],
           "sequential": [
            [
             0,
             "#0d0887"
            ],
            [
             0.1111111111111111,
             "#46039f"
            ],
            [
             0.2222222222222222,
             "#7201a8"
            ],
            [
             0.3333333333333333,
             "#9c179e"
            ],
            [
             0.4444444444444444,
             "#bd3786"
            ],
            [
             0.5555555555555556,
             "#d8576b"
            ],
            [
             0.6666666666666666,
             "#ed7953"
            ],
            [
             0.7777777777777778,
             "#fb9f3a"
            ],
            [
             0.8888888888888888,
             "#fdca26"
            ],
            [
             1,
             "#f0f921"
            ]
           ],
           "sequentialminus": [
            [
             0,
             "#0d0887"
            ],
            [
             0.1111111111111111,
             "#46039f"
            ],
            [
             0.2222222222222222,
             "#7201a8"
            ],
            [
             0.3333333333333333,
             "#9c179e"
            ],
            [
             0.4444444444444444,
             "#bd3786"
            ],
            [
             0.5555555555555556,
             "#d8576b"
            ],
            [
             0.6666666666666666,
             "#ed7953"
            ],
            [
             0.7777777777777778,
             "#fb9f3a"
            ],
            [
             0.8888888888888888,
             "#fdca26"
            ],
            [
             1,
             "#f0f921"
            ]
           ]
          },
          "colorway": [
           "#636efa",
           "#EF553B",
           "#00cc96",
           "#ab63fa",
           "#FFA15A",
           "#19d3f3",
           "#FF6692",
           "#B6E880",
           "#FF97FF",
           "#FECB52"
          ],
          "font": {
           "color": "#2a3f5f"
          },
          "geo": {
           "bgcolor": "white",
           "lakecolor": "white",
           "landcolor": "#E5ECF6",
           "showlakes": true,
           "showland": true,
           "subunitcolor": "white"
          },
          "hoverlabel": {
           "align": "left"
          },
          "hovermode": "closest",
          "mapbox": {
           "style": "light"
          },
          "paper_bgcolor": "white",
          "plot_bgcolor": "#E5ECF6",
          "polar": {
           "angularaxis": {
            "gridcolor": "white",
            "linecolor": "white",
            "ticks": ""
           },
           "bgcolor": "#E5ECF6",
           "radialaxis": {
            "gridcolor": "white",
            "linecolor": "white",
            "ticks": ""
           }
          },
          "scene": {
           "xaxis": {
            "backgroundcolor": "#E5ECF6",
            "gridcolor": "white",
            "gridwidth": 2,
            "linecolor": "white",
            "showbackground": true,
            "ticks": "",
            "zerolinecolor": "white"
           },
           "yaxis": {
            "backgroundcolor": "#E5ECF6",
            "gridcolor": "white",
            "gridwidth": 2,
            "linecolor": "white",
            "showbackground": true,
            "ticks": "",
            "zerolinecolor": "white"
           },
           "zaxis": {
            "backgroundcolor": "#E5ECF6",
            "gridcolor": "white",
            "gridwidth": 2,
            "linecolor": "white",
            "showbackground": true,
            "ticks": "",
            "zerolinecolor": "white"
           }
          },
          "shapedefaults": {
           "line": {
            "color": "#2a3f5f"
           }
          },
          "ternary": {
           "aaxis": {
            "gridcolor": "white",
            "linecolor": "white",
            "ticks": ""
           },
           "baxis": {
            "gridcolor": "white",
            "linecolor": "white",
            "ticks": ""
           },
           "bgcolor": "#E5ECF6",
           "caxis": {
            "gridcolor": "white",
            "linecolor": "white",
            "ticks": ""
           }
          },
          "title": {
           "x": 0.05
          },
          "xaxis": {
           "automargin": true,
           "gridcolor": "white",
           "linecolor": "white",
           "ticks": "",
           "title": {
            "standoff": 15
           },
           "zerolinecolor": "white",
           "zerolinewidth": 2
          },
          "yaxis": {
           "automargin": true,
           "gridcolor": "white",
           "linecolor": "white",
           "ticks": "",
           "title": {
            "standoff": 15
           },
           "zerolinecolor": "white",
           "zerolinewidth": 2
          }
         }
        },
        "title": {
         "text": "Correlation between NEO Size and Close Approach Distance"
        },
        "xaxis": {
         "anchor": "y",
         "domain": [
          0,
          1
         ],
         "title": {
          "text": "NEO Size (meters)"
         }
        },
        "yaxis": {
         "anchor": "x",
         "domain": [
          0,
          1
         ],
         "title": {
          "text": "Close Approach Distance (astronomical units)"
         }
        }
       }
      }
     },
     "metadata": {},
     "output_type": "display_data"
    }
   ],
   "source": [
    "import requests\n",
    "import time\n",
    "from datetime import datetime, timedelta\n",
    "import numpy as np\n",
    "import matplotlib.pyplot as plt\n",
    "import seaborn as sns\n",
    "from getpass import getpass\n",
    "import plotly.express as px\n",
    "\n",
    "# Set your NASA API KEY\n",
    "api_key = getpass()\n",
    "\n",
    "# Set the start and end dates for the data you want to fetch\n",
    "start_date = datetime.strptime('2022-01-01', '%Y-%m-%d')\n",
    "end_date = start_date + timedelta(days=365)  # 1 year later\n",
    "\n",
    "# Initialize lists and dictionaries\n",
    "neos_per_week = []\n",
    "neo_sizes_list = []\n",
    "hazardous_count = 0\n",
    "total_neos = 0\n",
    "\n",
    "# Fetch data from the NASA API 7 days at a time\n",
    "current_date = start_date\n",
    "while current_date < end_date:\n",
    "    next_date = min(current_date + timedelta(days=7), end_date)\n",
    "    response = requests.get(f'https://api.nasa.gov/neo/rest/v1/feed?start_date={current_date.strftime(\"%Y-%m-%d\")}&end_date={next_date.strftime(\"%Y-%m-%d\")}&api_key={api_key}')\n",
    "    data = response.json()\n",
    "\n",
    "    for _, neo_data in data['near_earth_objects'].items():\n",
    "        for neo in neo_data:\n",
    "            # Store the number of NEOs per week\n",
    "            neos_per_week.append(len(neo_data))\n",
    "\n",
    "            # Extract NEO sizes in meters\n",
    "            size_info = neo['estimated_diameter']['meters']\n",
    "            neo_sizes_list.append(size_info['estimated_diameter_min'])\n",
    "            neo_sizes_list.append(size_info['estimated_diameter_max'])\n",
    "\n",
    "            # Check if the NEO is potentially hazardous\n",
    "            is_hazardous = neo['is_potentially_hazardous_asteroid']\n",
    "            if is_hazardous:\n",
    "                hazardous_count += 1\n",
    "\n",
    "            total_neos += 1\n",
    "\n",
    "    current_date = next_date\n",
    "    time.sleep(1)  # To avoid hitting the rate limit\n",
    "\n",
    "# Calculate non-hazardous count\n",
    "non_hazardous_count = total_neos - hazardous_count\n",
    "\n",
    "# Pie chart: Proportion of hazardous VS non-hazardous NEOs\n",
    "labels = ['Hazardous', 'Non-Hazardous']\n",
    "values = [hazardous_count, non_hazardous_count]\n",
    "\n",
    "# Plot the pie chart\n",
    "plt.pie(values, labels=labels, autopct='%1.1f%%', startangle=90)\n",
    "\n",
    "# Set the plot title\n",
    "plt.title('Proportion of Hazardous vs Non-Hazardous NEOs')\n",
    "\n",
    "# Show the plot\n",
    "plt.show()\n",
    "\n",
    "# Extract close approach distances\n",
    "close_approach_distances = []\n",
    "for _, neo_data in data['near_earth_objects'].items():\n",
    "    for neo in neo_data:\n",
    "        close_approach = neo['close_approach_data']\n",
    "        if close_approach:\n",
    "            miss_distance = close_approach[0]['miss_distance']\n",
    "            close_approach_distances.append(miss_distance['astronomical'])\n",
    "\n",
    "# Create a scatter plot\n",
    "fig = px.scatter(x=neo_sizes_list[:len(close_approach_distances)], y=close_approach_distances, labels={'x': 'NEO Size (meters)', 'y': 'Close Approach Distance (astronomical units)'}, title='Correlation between NEO Size and Close Approach Distance')\n",
    "fig.show()\n"
   ]
  },
  {
   "attachments": {},
   "cell_type": "markdown",
   "metadata": {},
   "source": [
    "### Task 5: Interpretation of Results\n",
    "\n",
    "- Interpret the results of your data visualization in part A and B. \n",
    "- What insights can you gain about NEOs from your results? Summarizing your findings.\n",
    "- Use your findings to make predictions or recommendations. For example, if you found that larger NEOs are more likely to be potentially hazardous, you could recommend that more resources be allocated to tracking large NEOs. **Be creative!**\n",
    "- Identify, understand, and explain one scientific paper, on a clustering or classification method of relevance that could help Task 5. You don't have to implement it, you just need to justify in this notebook why the method in the scientific paper could contribute in analysis or interpretation of the results."
   ]
  },
  {
   "attachments": {},
   "cell_type": "markdown",
   "metadata": {},
   "source": [
    "When we look at the graphs from task 3, we can see that there is a fairly even spread of NEOs over the weeks - expet for week 41 where there is a big jump in sightings. We can also see most of these NEOs are around or smaller than 150 meters, by a huge metric. From the Data collected by NASA there is nearly 13000 NEOs with a size of 150 meters or less. whereas there is at most 5000 with sizes bigger than 150 meters, all this is to say that nearly two thirds of the NEOs and while the 5000 NEOs bigger than 150 meters sound like a lot most of them are in the range of 150--1000 meters and still they are predominantly in the 150-450 meter range. \n",
    "\n",
    "To get a better understanding of the potential dangers of the NEOs, it would be a good idea to look at a larger data set to get a better picture if the swings in amount and size of NEOs are more or less random. Or if there is a patern to the amount and size of NEOs that comes into contact with earth. But as all of this happens in space, the time scale of things often happens in the 10s or 100s of years, so that is out of the scope of this code. But by looking at maybe 5-10 years i would be possible to get a clearer picture of the NEOs and how \"close\" earth is to have hazardous NEOs. By focusing on this it might be possible to predict when and where these NEOs are and if they might be hazardous to earth.\n",
    "\n",
    "We could use the method from the scientific papar: \"Size and Shape of Asteroids from Inversion of Gaia Astrometry\" by Carry et al. (2020). This paper focuses on estimating the size and shape of asteroids, and if it is possible to know how big these astroids are it is then possible to figure out if these astroids would be hazardous to earth and thereby maybe doing something about them before they become a threath to earth. This paper focuses on these four points: Size estimation, shape modeling, Statistical analysis and Gaia mission data. By consindering this paper's methods of estimating the size and shape of the NEOs by using the data collected by the Gaia mission, it would be possible to get a better understanding of the NEO population's characteristics, impact risks, and internal structures. "
   ]
  },
  {
   "attachments": {},
   "cell_type": "markdown",
   "metadata": {},
   "source": [
    "### Task 6: Presentation and Documentation\n",
    "\n",
    "- Make this project as part of your presentation, **using beamer in LaTeX**. \n",
    "- This should include an overview of your work, the results of your data analysis, and the insights you gained from your results."
   ]
  },
  {
   "attachments": {},
   "cell_type": "markdown",
   "metadata": {},
   "source": [
    "See the Beamer"
   ]
  }
 ],
 "metadata": {
  "kernelspec": {
   "display_name": "base",
   "language": "python",
   "name": "python3"
  },
  "language_info": {
   "codemirror_mode": {
    "name": "ipython",
    "version": 3
   },
   "file_extension": ".py",
   "mimetype": "text/x-python",
   "name": "python",
   "nbconvert_exporter": "python",
   "pygments_lexer": "ipython3",
   "version": "3.10.9"
  },
  "orig_nbformat": 4
 },
 "nbformat": 4,
 "nbformat_minor": 2
}
